{
 "cells": [
  {
   "cell_type": "code",
   "execution_count": null,
   "id": "05328fcd-20af-4e4c-8f9d-16293fce726e",
   "metadata": {},
   "outputs": [],
   "source": [
    "Q1. How do you comment code in Python? What are the different types of comments?"
   ]
  },
  {
   "cell_type": "code",
   "execution_count": 1,
   "id": "e9a8c734-c138-4dff-88f2-f193c7d68bf1",
   "metadata": {},
   "outputs": [
    {
     "ename": "SyntaxError",
     "evalue": "'(' was never closed (1327780701.py, line 1)",
     "output_type": "error",
     "traceback": [
      "\u001b[0;36m  Cell \u001b[0;32mIn[1], line 1\u001b[0;36m\u001b[0m\n\u001b[0;31m    To comment in python , we need (#) this symphol.\u001b[0m\n\u001b[0m                                   ^\u001b[0m\n\u001b[0;31mSyntaxError\u001b[0m\u001b[0;31m:\u001b[0m '(' was never closed\n"
     ]
    }
   ],
   "source": [
    "To comment in python , we need (#) this symphol.\n",
    "     for example -\n",
    "         # this is my first code\n",
    "Comments can be of two types -\n",
    "    1. single line coomment \n",
    "    2. multiline comment"
   ]
  },
  {
   "cell_type": "code",
   "execution_count": null,
   "id": "7752c776-2f59-41d0-bb3b-24c34cabcdcd",
   "metadata": {},
   "outputs": [],
   "source": [
    "Q2. What are variables in Python? How do you declare and assign values to variables?"
   ]
  },
  {
   "cell_type": "code",
   "execution_count": 6,
   "id": "17e4402d-6fdd-4676-87ad-eb53be732f34",
   "metadata": {},
   "outputs": [
    {
     "name": "stdout",
     "output_type": "stream",
     "text": [
      "Mayank\n"
     ]
    }
   ],
   "source": [
    "# bariables are the symbols or names that are used to point an object\n",
    "#for example\n",
    "a= \"Mayank\"  #here a is a variable which symbolises Mayank\n",
    "print(a)"
   ]
  },
  {
   "cell_type": "code",
   "execution_count": null,
   "id": "9bbc9498-fc03-4172-bf84-42dd71f9223d",
   "metadata": {},
   "outputs": [],
   "source": [
    " Q3. How do you convert one data type to another in Python?"
   ]
  },
  {
   "cell_type": "code",
   "execution_count": 7,
   "id": "b97c3f51-a621-4d56-85d6-f71f55483810",
   "metadata": {},
   "outputs": [
    {
     "data": {
      "text/plain": [
       "str"
      ]
     },
     "execution_count": 7,
     "metadata": {},
     "output_type": "execute_result"
    }
   ],
   "source": [
    "a = 45    #a is integer here \n",
    "b= str(a)  # here integer is being converted to string\n",
    "type(b)"
   ]
  },
  {
   "cell_type": "code",
   "execution_count": null,
   "id": "5b7b5d2e-a626-4210-b60f-548907d88795",
   "metadata": {},
   "outputs": [],
   "source": [
    "Q4. How do you write and execute a Python script from the command line?"
   ]
  },
  {
   "cell_type": "code",
   "execution_count": null,
   "id": "71fa5a8f-3a9c-4c39-86de-a2544e417547",
   "metadata": {},
   "outputs": [],
   "source": [
    "To open a command line and type the word python followed by the path to your script file like this: python first_script.py Hello World! Then you hit the ENTER button from the keyboard, and that's it."
   ]
  },
  {
   "cell_type": "code",
   "execution_count": null,
   "id": "4e7382ae-7ce5-4815-a05a-01b762fdc3d3",
   "metadata": {},
   "outputs": [],
   "source": [
    "Q5. Given a list my_list = [1, 2, 3, 4, 5], write the code to slice the list and obtain the sub-list [2, 3]."
   ]
  },
  {
   "cell_type": "code",
   "execution_count": 1,
   "id": "e23b1aa4-682d-46df-bb6a-ae51b08bf9cb",
   "metadata": {},
   "outputs": [
    {
     "ename": "SyntaxError",
     "evalue": "invalid syntax (3631635872.py, line 1)",
     "output_type": "error",
     "traceback": [
      "\u001b[0;36m  Cell \u001b[0;32mIn[1], line 1\u001b[0;36m\u001b[0m\n\u001b[0;31m    Q5. Given a list my_list = [1, 2, 3, 4, 5], write the code to slice the list and obtain the sub-list [2, 3].\u001b[0m\n\u001b[0m              ^\u001b[0m\n\u001b[0;31mSyntaxError\u001b[0m\u001b[0;31m:\u001b[0m invalid syntax\n"
     ]
    }
   ],
   "source": [
    "l= [1,2,3,4,5 ]\n",
    "l[1:3]"
   ]
  },
  {
   "cell_type": "code",
   "execution_count": null,
   "id": "b2d419ff-565b-48fe-8ca8-076439f87c94",
   "metadata": {},
   "outputs": [],
   "source": [
    "Q6. What is a complex number in mathematics, and how is it represented in Python?"
   ]
  },
  {
   "cell_type": "code",
   "execution_count": 16,
   "id": "74479e38-d68b-4489-8028-57893480cd36",
   "metadata": {},
   "outputs": [
    {
     "ename": "SyntaxError",
     "evalue": "invalid syntax (2977601571.py, line 1)",
     "output_type": "error",
     "traceback": [
      "\u001b[0;36m  Cell \u001b[0;32mIn[16], line 1\u001b[0;36m\u001b[0m\n\u001b[0;31m    In mathematics complex no. are those no. which are defined in form of a+ib\u001b[0m\n\u001b[0m       ^\u001b[0m\n\u001b[0;31mSyntaxError\u001b[0m\u001b[0;31m:\u001b[0m invalid syntax\n"
     ]
    }
   ],
   "source": [
    "In mathematics complex no. are those no. which are defined in form of a+ib\n",
    "In python these are defined as a+ bj\n",
    "     for example - 2 +3j  \n"
   ]
  },
  {
   "cell_type": "code",
   "execution_count": null,
   "id": "e7be40e3-6515-4cec-8172-db9a3a111615",
   "metadata": {},
   "outputs": [],
   "source": [
    "Q7. What is the correct way to declare a variable named age and assign the value 25 to it?"
   ]
  },
  {
   "cell_type": "code",
   "execution_count": 2,
   "id": "bf33b4a8-b3bd-454a-9059-24e0777362f7",
   "metadata": {},
   "outputs": [],
   "source": [
    "age = 25"
   ]
  },
  {
   "cell_type": "code",
   "execution_count": null,
   "id": "797366fe-c615-4715-86bf-2199a533a0c6",
   "metadata": {},
   "outputs": [],
   "source": [
    "Q8. Declare a variable named price and assign the value 9.99 to it. What data type does this variable belong to"
   ]
  },
  {
   "cell_type": "code",
   "execution_count": 3,
   "id": "2ce51ba7-534e-4a26-8b05-f9497d31842f",
   "metadata": {},
   "outputs": [],
   "source": [
    "price =9.99  #it is a boolean data type"
   ]
  },
  {
   "cell_type": "code",
   "execution_count": null,
   "id": "7f44fc40-dc6e-4942-b4f1-315e7473dd6f",
   "metadata": {},
   "outputs": [],
   "source": [
    "Q9. Create a variable named name and assign your full name to it as a string. How would you print the\n",
    "value of this variable?"
   ]
  },
  {
   "cell_type": "code",
   "execution_count": 12,
   "id": "66e67e75-ec1e-46b2-a27b-314f386e65f6",
   "metadata": {},
   "outputs": [
    {
     "name": "stdout",
     "output_type": "stream",
     "text": [
      "Mayank Tiwari\n"
     ]
    }
   ],
   "source": [
    "name = \"Mayank Tiwari\"\n",
    "print(name)"
   ]
  },
  {
   "cell_type": "code",
   "execution_count": null,
   "id": "0cda51f9-78c1-4a1f-b9f9-83a758968391",
   "metadata": {},
   "outputs": [],
   "source": [
    "Q10. Given the string \"Hello, World!\", extract the substring \"World\"."
   ]
  },
  {
   "cell_type": "code",
   "execution_count": 10,
   "id": "3f30965d-ceae-4a09-a2d7-66eb3a1606c6",
   "metadata": {},
   "outputs": [
    {
     "data": {
      "text/plain": [
       "'world'"
      ]
     },
     "execution_count": 10,
     "metadata": {},
     "output_type": "execute_result"
    }
   ],
   "source": [
    "a= \"Hello, world!\"\n",
    "a[7:12:1]"
   ]
  },
  {
   "cell_type": "code",
   "execution_count": null,
   "id": "3c39139e-7bac-4a5c-b932-c01b9b4edacd",
   "metadata": {},
   "outputs": [],
   "source": [
    "Q11. Create a variable named \"is_student\" and assign it a boolean value indicating whether you arecurrently a student or not."
   ]
  },
  {
   "cell_type": "code",
   "execution_count": 13,
   "id": "029fd308-f6e6-4270-b68a-cb4886bb907c",
   "metadata": {},
   "outputs": [
    {
     "name": "stdout",
     "output_type": "stream",
     "text": [
      "True\n"
     ]
    }
   ],
   "source": [
    "is_student=True\n",
    "print(is_student)"
   ]
  }
 ],
 "metadata": {
  "kernelspec": {
   "display_name": "Python 3 (ipykernel)",
   "language": "python",
   "name": "python3"
  },
  "language_info": {
   "codemirror_mode": {
    "name": "ipython",
    "version": 3
   },
   "file_extension": ".py",
   "mimetype": "text/x-python",
   "name": "python",
   "nbconvert_exporter": "python",
   "pygments_lexer": "ipython3",
   "version": "3.10.8"
  }
 },
 "nbformat": 4,
 "nbformat_minor": 5
}
